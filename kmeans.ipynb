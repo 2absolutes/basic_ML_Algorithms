{
 "cells": [
  {
   "cell_type": "code",
   "execution_count": null,
   "id": "f5139f28",
   "metadata": {},
   "outputs": [],
   "source": [
    "# necessary imports\n",
    "%matplotlib inline\n",
    "import matplotlib.pyplot as plt\n",
    "import numpy as np\n",
    "import seaborn as sns; sns.set()\n",
    "import random"
   ]
  },
  {
   "cell_type": "code",
   "execution_count": null,
   "id": "020006ef",
   "metadata": {},
   "outputs": [],
   "source": [
    "points_group1 = np.random.random((50,2)) + [0.75, 0.75]\n",
    "points_group2 = np.random.random((50,2))\n",
    "points_group3 = np.random.random((50,2)) + [0.75,0]\n",
    "points = np.vstack((points_group1, points_group2, points_group3))"
   ]
  },
  {
   "cell_type": "code",
   "execution_count": null,
   "id": "9aeee4d3",
   "metadata": {},
   "outputs": [],
   "source": [
    "num_clusters = 3\n",
    "rand_inds = random.sample(range(points.shape[0]), num_clusters)\n",
    "centroids = points[rand_inds]"
   ]
  },
  {
   "cell_type": "code",
   "execution_count": null,
   "id": "a31c8c9d",
   "metadata": {},
   "outputs": [],
   "source": [
    "plt.scatter(points_group1[:,0], points_group1[:,1], c=\"g\")\n",
    "plt.scatter(points_group2[:,0], points_group2[:,1], c=\"b\")\n",
    "plt.scatter(points_group3[:,0], points_group3[:,1], c=\"c\")\n",
    "plt.scatter(centroids[:,0], centroids[:,1], c=\"r\", s=100)\n",
    "\n",
    "plt.show()"
   ]
  },
  {
   "cell_type": "code",
   "execution_count": null,
   "id": "c84e423d",
   "metadata": {
    "scrolled": true
   },
   "outputs": [],
   "source": [
    "for i in range(10):\n",
    "    distance = np.sqrt(((points[:, np.newaxis, :] - centroids)**2).sum(axis=2))\n",
    "    closest = np.argmin(distance, axis=1)\n",
    "    centroids = np.array([points[closest==k].mean(axis=0) for k in range(centroids.shape[0])])\n",
    "    plt.figure()\n",
    "    plt.scatter(points_group1[:,0], points_group1[:,1], c=\"g\")\n",
    "    plt.scatter(points_group2[:,0], points_group2[:,1], c=\"b\")\n",
    "    plt.scatter(points_group3[:,0], points_group3[:,1], c=\"c\")\n",
    "    plt.scatter(centroids[:,0], centroids[:,1], c=\"r\", s=100)\n",
    "    plt.show()"
   ]
  },
  {
   "cell_type": "code",
   "execution_count": null,
   "id": "42ad0ed4",
   "metadata": {},
   "outputs": [],
   "source": [
    "%matplotlib nbagg\n",
    "# from JSAnimation import IPython_display\n",
    "from matplotlib import animation\n",
    "\n",
    "# create a simple animation\n",
    "fig = plt.figure()\n",
    "ax = plt.axes(xlim=(-0.5, 2), ylim=(-0.5, 2))\n",
    "\n",
    "def init():\n",
    "    return\n",
    "\n",
    "def animate(i):\n",
    "    global centroids\n",
    "    distance = distance = np.sqrt(((points[:, np.newaxis, :] - centroids)**2).sum(axis=2))\n",
    "    closest = np.argmin(distance, axis=1)\n",
    "    centroids = np.array([points[closest==k].mean(axis=0) for k in range(centroids.shape[0])])\n",
    "    closest = [\"r\" if x == 1 else ( \"g\" if x == 0 else \"b\") for x in closest]\n",
    "    ax.cla()\n",
    "    ax.scatter(points[:, 0], points[:, 1], c=closest)\n",
    "    ax.scatter(centroids[:, 0], centroids[:, 1], c='c', s=100)\n",
    "    return \n",
    "\n",
    "animation.FuncAnimation(fig, animate, init_func=init,\n",
    "                        frames=30, interval=200, blit=True)"
   ]
  },
  {
   "cell_type": "code",
   "execution_count": null,
   "id": "2e5dc786",
   "metadata": {},
   "outputs": [],
   "source": []
  },
  {
   "cell_type": "code",
   "execution_count": null,
   "id": "6202c36b",
   "metadata": {},
   "outputs": [],
   "source": []
  },
  {
   "cell_type": "code",
   "execution_count": null,
   "id": "b184fbd7",
   "metadata": {},
   "outputs": [],
   "source": []
  },
  {
   "cell_type": "code",
   "execution_count": null,
   "id": "95ce07a8",
   "metadata": {},
   "outputs": [],
   "source": []
  },
  {
   "cell_type": "code",
   "execution_count": null,
   "id": "8da59d20",
   "metadata": {},
   "outputs": [],
   "source": []
  }
 ],
 "metadata": {
  "kernelspec": {
   "display_name": "Python 3 (ipykernel)",
   "language": "python",
   "name": "python3"
  },
  "language_info": {
   "codemirror_mode": {
    "name": "ipython",
    "version": 3
   },
   "file_extension": ".py",
   "mimetype": "text/x-python",
   "name": "python",
   "nbconvert_exporter": "python",
   "pygments_lexer": "ipython3",
   "version": "3.9.5"
  }
 },
 "nbformat": 4,
 "nbformat_minor": 5
}
