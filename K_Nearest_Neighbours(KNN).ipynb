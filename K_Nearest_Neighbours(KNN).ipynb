{
 "cells": [
  {
   "cell_type": "code",
   "execution_count": 1,
   "id": "747e4787",
   "metadata": {},
   "outputs": [],
   "source": [
    "import numpy as np\n",
    "from sklearn import datasets\n",
    "from sklearn.metrics import classification_report\n",
    "from sklearn.model_selection import train_test_split\n",
    "import scipy.stats"
   ]
  },
  {
   "cell_type": "code",
   "execution_count": 2,
   "id": "e75b27fd",
   "metadata": {},
   "outputs": [
    {
     "name": "stdout",
     "output_type": "stream",
     "text": [
      "X.shape: (150, 4)\n",
      "y.shape: (150, 1)\n",
      "X_train.shape: (112, 4)\n",
      "y_train.shape: (112, 1)\n",
      "X_test.shape: (38, 4)\n",
      "y_test.shape: (38, 1)\n"
     ]
    }
   ],
   "source": [
    "iris = datasets.load_iris()\n",
    "X = iris.data\n",
    "y =  iris.target.reshape(len(iris.target), 1)\n",
    "\n",
    "X_train, X_test, y_train, y_test= train_test_split(X, y, test_size= 0.25, random_state=38, stratify = y)\n",
    "\n",
    "print(f\"X.shape: {X.shape}\")\n",
    "print(f\"y.shape: {y.shape}\")\n",
    "\n",
    "print(f\"X_train.shape: {X_train.shape}\")\n",
    "print(f\"y_train.shape: {y_train.shape}\")\n",
    "\n",
    "print(f\"X_test.shape: {X_test.shape}\")\n",
    "print(f\"y_test.shape: {y_test.shape}\")"
   ]
  },
  {
   "cell_type": "code",
   "execution_count": 3,
   "id": "85447581",
   "metadata": {},
   "outputs": [
    {
     "name": "stdout",
     "output_type": "stream",
     "text": [
      "[0] [0]\n",
      "[0] [0]\n",
      "[2] [2]\n",
      "[1] [1]\n",
      "[1] [1]\n",
      "[1] [1]\n",
      "[0] [0]\n",
      "[0] [0]\n",
      "[1] [1]\n",
      "[2] [2]\n",
      "[2] [2]\n",
      "[1] [1]\n",
      "[1] [1]\n",
      "[2] [2]\n",
      "[2] [2]\n",
      "[0] [0]\n",
      "[0] [0]\n",
      "[0] [0]\n",
      "[1] [1]\n",
      "[2] [2]\n",
      "[2] [2]\n",
      "[1] [1]\n",
      "[0] [0]\n",
      "[0] [0]\n",
      "[1] [1]\n",
      "[2] [2]\n",
      "[2] [1]\n",
      "[0] [0]\n",
      "[1] [1]\n",
      "[2] [2]\n",
      "[2] [2]\n",
      "[1] [1]\n",
      "[2] [2]\n",
      "[1] [1]\n",
      "[0] [0]\n",
      "[0] [0]\n",
      "[2] [2]\n",
      "[2] [2]\n"
     ]
    }
   ],
   "source": [
    "k = 13\n",
    "predictions = []\n",
    "for i in range(X_test.shape[0]):\n",
    "    data_point = X_test[i]\n",
    "    t = np.argpartition(np.sqrt(np.sum((data_point - X_train)**2, axis=1)), k)\n",
    "    predictions.append(scipy.stats.mode(y_train[t[:k]])[0][0])\n",
    "    print (predictions[-1], y_test[i])"
   ]
  },
  {
   "cell_type": "code",
   "execution_count": 4,
   "id": "9244a534",
   "metadata": {},
   "outputs": [
    {
     "name": "stdout",
     "output_type": "stream",
     "text": [
      "\n",
      "classification_report:\n",
      "              precision    recall  f1-score   support\n",
      "\n",
      "           0       1.00      1.00      1.00        12\n",
      "           1       1.00      0.92      0.96        13\n",
      "           2       0.93      1.00      0.96        13\n",
      "\n",
      "    accuracy                           0.97        38\n",
      "   macro avg       0.98      0.97      0.97        38\n",
      "weighted avg       0.98      0.97      0.97        38\n",
      "\n"
     ]
    }
   ],
   "source": [
    "print(f\"\\nclassification_report:\\n{classification_report(y_test, predictions)}\")"
   ]
  },
  {
   "cell_type": "code",
   "execution_count": 5,
   "id": "1362fad7",
   "metadata": {},
   "outputs": [
    {
     "name": "stdout",
     "output_type": "stream",
     "text": [
      "\n",
      "classification_report:\n",
      "              precision    recall  f1-score   support\n",
      "\n",
      "           0       1.00      1.00      1.00        12\n",
      "           1       1.00      0.92      0.96        13\n",
      "           2       0.93      1.00      0.96        13\n",
      "\n",
      "    accuracy                           0.97        38\n",
      "   macro avg       0.98      0.97      0.97        38\n",
      "weighted avg       0.98      0.97      0.97        38\n",
      "\n"
     ]
    },
    {
     "name": "stderr",
     "output_type": "stream",
     "text": [
      "/home/piyush/.virtualenvs/ml_env/lib/python3.9/site-packages/sklearn/neighbors/_classification.py:179: DataConversionWarning: A column-vector y was passed when a 1d array was expected. Please change the shape of y to (n_samples,), for example using ravel().\n",
      "  return self._fit(X, y)\n"
     ]
    }
   ],
   "source": [
    "from sklearn.neighbors import KNeighborsClassifier\n",
    "neigh = KNeighborsClassifier(n_neighbors=11)\n",
    "neigh.fit(X_train, y_train)\n",
    "y_hat = neigh.predict(X_test)\n",
    "print(f\"\\nclassification_report:\\n{classification_report(y_test, y_hat)}\")"
   ]
  },
  {
   "cell_type": "code",
   "execution_count": null,
   "id": "96c4bba3",
   "metadata": {},
   "outputs": [],
   "source": []
  }
 ],
 "metadata": {
  "kernelspec": {
   "display_name": "Python 3 (ipykernel)",
   "language": "python",
   "name": "python3"
  },
  "language_info": {
   "codemirror_mode": {
    "name": "ipython",
    "version": 3
   },
   "file_extension": ".py",
   "mimetype": "text/x-python",
   "name": "python",
   "nbconvert_exporter": "python",
   "pygments_lexer": "ipython3",
   "version": "3.9.5"
  }
 },
 "nbformat": 4,
 "nbformat_minor": 5
}
