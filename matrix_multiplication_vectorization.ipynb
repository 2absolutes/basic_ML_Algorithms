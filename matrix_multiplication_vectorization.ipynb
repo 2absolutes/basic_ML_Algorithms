{
 "cells": [
  {
   "cell_type": "code",
   "execution_count": 1,
   "id": "618a6155",
   "metadata": {},
   "outputs": [],
   "source": [
    "import numpy as np"
   ]
  },
  {
   "cell_type": "code",
   "execution_count": 6,
   "id": "8841fb1c",
   "metadata": {},
   "outputs": [],
   "source": [
    "matrix_a_shape = (500, 784)\n",
    "matrix_b_shape = (784, 100)"
   ]
  },
  {
   "cell_type": "code",
   "execution_count": 7,
   "id": "0ba7471c",
   "metadata": {},
   "outputs": [
    {
     "name": "stdout",
     "output_type": "stream",
     "text": [
      "matrix_a.shape: (500, 784)\n",
      "matrix_b.shape: (784, 100)\n"
     ]
    }
   ],
   "source": [
    "matrix_a = np.random.random(matrix_a_shape)\n",
    "matrix_b = np.random.random(matrix_b_shape)\n",
    "\n",
    "print(f\"matrix_a.shape: {matrix_a.shape}\")\n",
    "print(f\"matrix_b.shape: {matrix_b.shape}\")"
   ]
  },
  {
   "cell_type": "code",
   "execution_count": 8,
   "id": "9891a1f4",
   "metadata": {},
   "outputs": [],
   "source": [
    "def matmul_novec(a, b):\n",
    "    \"\"\"Returns a * b\"\"\"\n",
    "    c = np.zeros((a.shape[0], b.shape[1]))\n",
    "    for i in range(a.shape[0]):\n",
    "        for j in range(b.shape[1]):\n",
    "            for k in range(a.shape[1]):\n",
    "                c[i][j] += a[i][k] * b[k][j]\n",
    "    return c\n",
    "\n",
    "# test\n",
    "# np_results = np.matmul(matrix_a, matrix_b)\n",
    "# my_results = matmul_novec(matrix_a, matrix_b)\n",
    "# np.testing.assert_allclose(np_results, my_results)"
   ]
  },
  {
   "cell_type": "code",
   "execution_count": 9,
   "id": "d711badc",
   "metadata": {},
   "outputs": [
    {
     "name": "stdout",
     "output_type": "stream",
     "text": [
      "24.5 s ± 677 ms per loop (mean ± std. dev. of 7 runs, 1 loop each)\n"
     ]
    }
   ],
   "source": [
    "%timeit matmul_novec(matrix_a, matrix_b)"
   ]
  },
  {
   "cell_type": "code",
   "execution_count": 10,
   "id": "1a0c9c43",
   "metadata": {},
   "outputs": [],
   "source": [
    "def matmul_vec_level1(a, b):\n",
    "    \"\"\"Returns a * b\"\"\"\n",
    "    c = np.zeros((a.shape[0], b.shape[1]))\n",
    "    for i in range(a.shape[0]):\n",
    "        for j in range(b.shape[1]):\n",
    "            c[i][j] = np.dot(a[i], b[:,j])\n",
    "    return c\n",
    "\n",
    "# test\n",
    "# np_results = np.matmul(matrix_a, matrix_b)\n",
    "# my_results = matmul_vec_level1(matrix_a, matrix_b)\n",
    "# np.testing.assert_allclose(np_results, my_results)"
   ]
  },
  {
   "cell_type": "code",
   "execution_count": 11,
   "id": "b054cbed",
   "metadata": {},
   "outputs": [
    {
     "name": "stdout",
     "output_type": "stream",
     "text": [
      "102 ms ± 3.2 ms per loop (mean ± std. dev. of 7 runs, 10 loops each)\n"
     ]
    }
   ],
   "source": [
    "%timeit matmul_vec_level1(matrix_a, matrix_b)"
   ]
  },
  {
   "cell_type": "code",
   "execution_count": 12,
   "id": "17e98da8",
   "metadata": {},
   "outputs": [],
   "source": [
    "def matmul_vec_level2(a, b):\n",
    "    \"\"\"Returns a * b\"\"\"\n",
    "    c = np.zeros((a.shape[0], b.shape[1]))\n",
    "    for i in range(a.shape[0]):\n",
    "        c[i] = np.sum(a[i] * b.T, axis=1)\n",
    "    return c\n",
    "\n",
    "# test\n",
    "# np_results = np.matmul(matrix_a, matrix_b)\n",
    "# my_results = matmul_vec_level2(matrix_a, matrix_b)\n",
    "# np.testing.assert_allclose(np_results, my_results)"
   ]
  },
  {
   "cell_type": "code",
   "execution_count": 13,
   "id": "9d736c7e",
   "metadata": {},
   "outputs": [
    {
     "name": "stdout",
     "output_type": "stream",
     "text": [
      "44.9 ms ± 425 µs per loop (mean ± std. dev. of 7 runs, 10 loops each)\n"
     ]
    }
   ],
   "source": [
    "%timeit matmul_vec_level2(matrix_a, matrix_b)"
   ]
  },
  {
   "cell_type": "code",
   "execution_count": 14,
   "id": "4c76ee76",
   "metadata": {},
   "outputs": [],
   "source": [
    "def matmul_vec_level3(a, b):\n",
    "    \"\"\"Returns a * b\"\"\"\n",
    "    c = np.sum(a[:,np.newaxis,:] * b.T, axis=2)\n",
    "    return c\n",
    "\n",
    "# test\n",
    "# np_results = np.matmul(matrix_a, matrix_b)\n",
    "# my_results = matmul_vec_level3(matrix_a, matrix_b)\n",
    "# np.testing.assert_allclose(np_results, my_results)"
   ]
  },
  {
   "cell_type": "code",
   "execution_count": 17,
   "id": "1a0103fb",
   "metadata": {},
   "outputs": [
    {
     "name": "stdout",
     "output_type": "stream",
     "text": [
      "86.8 ms ± 883 µs per loop (mean ± std. dev. of 7 runs, 10 loops each)\n"
     ]
    }
   ],
   "source": [
    "%timeit matmul_vec_level3(matrix_a, matrix_b)"
   ]
  },
  {
   "cell_type": "code",
   "execution_count": 16,
   "id": "7b1c050a",
   "metadata": {},
   "outputs": [
    {
     "name": "stdout",
     "output_type": "stream",
     "text": [
      "1.04 ms ± 40.5 µs per loop (mean ± std. dev. of 7 runs, 1000 loops each)\n"
     ]
    }
   ],
   "source": [
    "%timeit np.matmul(matrix_a, matrix_b)"
   ]
  },
  {
   "cell_type": "code",
   "execution_count": null,
   "id": "5b82e190",
   "metadata": {},
   "outputs": [],
   "source": []
  }
 ],
 "metadata": {
  "kernelspec": {
   "display_name": "Python 3 (ipykernel)",
   "language": "python",
   "name": "python3"
  },
  "language_info": {
   "codemirror_mode": {
    "name": "ipython",
    "version": 3
   },
   "file_extension": ".py",
   "mimetype": "text/x-python",
   "name": "python",
   "nbconvert_exporter": "python",
   "pygments_lexer": "ipython3",
   "version": "3.9.5"
  }
 },
 "nbformat": 4,
 "nbformat_minor": 5
}
