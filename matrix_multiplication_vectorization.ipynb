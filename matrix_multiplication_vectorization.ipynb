{
 "cells": [
  {
   "cell_type": "code",
   "execution_count": 1,
   "id": "618a6155",
   "metadata": {},
   "outputs": [],
   "source": [
    "import numpy as np"
   ]
  },
  {
   "cell_type": "code",
   "execution_count": 18,
   "id": "9f2b849c",
   "metadata": {},
   "outputs": [],
   "source": [
    "matrix_a_shape = (100, 10)\n",
    "matrix_b_shape = (10, 100)"
   ]
  },
  {
   "cell_type": "code",
   "execution_count": 19,
   "id": "b808a0df",
   "metadata": {},
   "outputs": [
    {
     "name": "stdout",
     "output_type": "stream",
     "text": [
      "matrix_a.shape: (100, 10)\n",
      "matrix_b.shape: (10, 100)\n"
     ]
    }
   ],
   "source": [
    "matrix_a = np.random.random(matrix_a_shape)\n",
    "matrix_b = np.random.random(matrix_b_shape)\n",
    "\n",
    "print(f\"matrix_a.shape: {matrix_a.shape}\")\n",
    "print(f\"matrix_b.shape: {matrix_b.shape}\")"
   ]
  },
  {
   "cell_type": "code",
   "execution_count": 20,
   "id": "b15a44a3",
   "metadata": {},
   "outputs": [],
   "source": [
    "def matmul_novec(a, b):\n",
    "    \"\"\"Returns a * b\"\"\"\n",
    "    c = np.zeros((a.shape[0], b.shape[1]))\n",
    "    for i in range(a.shape[0]):\n",
    "        for j in range(b.shape[1]):\n",
    "            for k in range(a.shape[1]):\n",
    "                c[i][j] += a[i][k] * b[k][j]\n",
    "    return c\n",
    "\n",
    "# test\n",
    "# np_results = np.matmul(matrix_a, matrix_b)\n",
    "# my_results = matmul_novec(matrix_a, matrix_b)\n",
    "# np.testing.assert_allclose(np_results, my_results)"
   ]
  },
  {
   "cell_type": "code",
   "execution_count": 21,
   "id": "71bfead1",
   "metadata": {},
   "outputs": [
    {
     "name": "stdout",
     "output_type": "stream",
     "text": [
      "61.7 ms ± 1.51 ms per loop (mean ± std. dev. of 7 runs, 10 loops each)\n"
     ]
    }
   ],
   "source": [
    "%timeit matmul_novec(matrix_a, matrix_b)"
   ]
  },
  {
   "cell_type": "code",
   "execution_count": 22,
   "id": "25a1d574",
   "metadata": {},
   "outputs": [],
   "source": [
    "def matmul_vec_level1(a, b):\n",
    "    \"\"\"Returns a * b\"\"\"\n",
    "    c = np.zeros((a.shape[0], b.shape[1]))\n",
    "    for i in range(a.shape[0]):\n",
    "        for j in range(b.shape[1]):\n",
    "            c[i][j] = np.dot(a[i], b[:,j])\n",
    "    return c\n",
    "\n",
    "# test\n",
    "# np_results = np.matmul(matrix_a, matrix_b)\n",
    "# my_results = matmul_vec_level1(matrix_a, matrix_b)\n",
    "# np.testing.assert_allclose(np_results, my_results)"
   ]
  },
  {
   "cell_type": "code",
   "execution_count": 23,
   "id": "5b8b8a4a",
   "metadata": {},
   "outputs": [
    {
     "name": "stdout",
     "output_type": "stream",
     "text": [
      "12.3 ms ± 110 µs per loop (mean ± std. dev. of 7 runs, 100 loops each)\n"
     ]
    }
   ],
   "source": [
    "%timeit matmul_vec_level1(matrix_a, matrix_b)"
   ]
  },
  {
   "cell_type": "code",
   "execution_count": 24,
   "id": "c8f8e7e2",
   "metadata": {},
   "outputs": [],
   "source": [
    "def matmul_vec_level2(a, b):\n",
    "    \"\"\"Returns a * b\"\"\"\n",
    "    c = np.zeros((a.shape[0], b.shape[1]))\n",
    "    for i in range(a.shape[0]):\n",
    "        c[i] = np.sum(a[i] * b.T, axis=1)\n",
    "    return c\n",
    "\n",
    "# test\n",
    "# np_results = np.matmul(matrix_a, matrix_b)\n",
    "# my_results = matmul_vec_level2(matrix_a, matrix_b)\n",
    "# np.testing.assert_allclose(np_results, my_results)"
   ]
  },
  {
   "cell_type": "code",
   "execution_count": 25,
   "id": "533b0cc8",
   "metadata": {},
   "outputs": [
    {
     "name": "stdout",
     "output_type": "stream",
     "text": [
      "784 µs ± 29.2 µs per loop (mean ± std. dev. of 7 runs, 1000 loops each)\n"
     ]
    }
   ],
   "source": [
    "%timeit matmul_vec_level2(matrix_a, matrix_b)"
   ]
  },
  {
   "cell_type": "code",
   "execution_count": 26,
   "id": "caa154cc",
   "metadata": {},
   "outputs": [],
   "source": [
    "def matmul_vec_level3(a, b):\n",
    "    \"\"\"Returns a * b\"\"\"\n",
    "    c = np.sum(a[:,np.newaxis,:] * b.T, axis=2)\n",
    "    return c\n",
    "\n",
    "# test\n",
    "# np_results = np.matmul(matrix_a, matrix_b)\n",
    "# my_results = matmul_vec_level3(matrix_a, matrix_b)\n",
    "# np.testing.assert_allclose(np_results, my_results)"
   ]
  },
  {
   "cell_type": "code",
   "execution_count": 27,
   "id": "aa0792bd",
   "metadata": {},
   "outputs": [
    {
     "name": "stdout",
     "output_type": "stream",
     "text": [
      "137 µs ± 1.09 µs per loop (mean ± std. dev. of 7 runs, 10000 loops each)\n"
     ]
    }
   ],
   "source": [
    "%timeit matmul_vec_level3(matrix_a, matrix_b)"
   ]
  },
  {
   "cell_type": "code",
   "execution_count": 28,
   "id": "84ac591a",
   "metadata": {},
   "outputs": [
    {
     "name": "stdout",
     "output_type": "stream",
     "text": [
      "8.82 µs ± 82.2 ns per loop (mean ± std. dev. of 7 runs, 100000 loops each)\n"
     ]
    }
   ],
   "source": [
    "%timeit np.matmul(matrix_a, matrix_b)"
   ]
  },
  {
   "cell_type": "code",
   "execution_count": null,
   "id": "abcaa80d",
   "metadata": {},
   "outputs": [],
   "source": []
  }
 ],
 "metadata": {
  "kernelspec": {
   "display_name": "Python 3 (ipykernel)",
   "language": "python",
   "name": "python3"
  },
  "language_info": {
   "codemirror_mode": {
    "name": "ipython",
    "version": 3
   },
   "file_extension": ".py",
   "mimetype": "text/x-python",
   "name": "python",
   "nbconvert_exporter": "python",
   "pygments_lexer": "ipython3",
   "version": "3.9.5"
  }
 },
 "nbformat": 4,
 "nbformat_minor": 5
}
